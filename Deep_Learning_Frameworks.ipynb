{
  "nbformat": 4,
  "nbformat_minor": 0,
  "metadata": {
    "colab": {
      "provenance": []
    },
    "kernelspec": {
      "name": "python3",
      "display_name": "Python 3"
    },
    "language_info": {
      "name": "python"
    }
  },
  "cells": [
    {
      "cell_type": "markdown",
      "source": [
        "# 1. What is TensorFlow 2.0, and how is it different from TensorFlow 1.x?\n",
        "- TensorFlow 2.0 is an open-source deep learning framework by Google designed to simplify machine learning workflows.\n",
        "It emphasizes eager execution by default, improved Keras integration, and better usability.\n",
        "Differences from 1.x:\n",
        "- Eager execution is enabled by default (immediate computation).\n",
        "- Simplified APIs with tf.keras as the main high-level API.\n",
        "- Removal of redundant APIs and better support for tf.data.\n",
        "- Improved performance and debugging.\n",
        "\"\"\"\n",
        "\n",
        "# 2. How do you install TensorFlow 2.0?\n",
        "\"\"\"\n",
        "Use pip to install:\n",
        "    \n",
        "    pip install tensorflow\n",
        "For GPU support:\n",
        "\n",
        "    pip install tensorflow-gpu\n",
        "\"\"\"\n",
        "\n",
        "# 3. What is the primary function of the `tf.function` in TensorFlow 2.0?\n",
        "\"\"\"\n",
        "`tf.function` converts a Python function into a TensorFlow graph for faster execution and optimization, enabling graph execution while writing Python code.\n",
        "\"\"\"\n",
        "\n",
        "# 4. What is the purpose of the `Model` class in TensorFlow 2.0?\n",
        "\"\"\"\n",
        "The `Model` class (tf.keras.Model) is a high-level API used to define, train, and evaluate neural networks.\n",
        "It provides methods like fit(), evaluate(), and predict().\n",
        "\"\"\"\n",
        "\n",
        "# 5. How do you create a neural network using TensorFlow 2.0?\n",
        "\"\"\"\n",
        "Using tf.keras.Sequential or subclassing tf.keras.Model. Example with Sequential:\n",
        "\n",
        "import tensorflow as tf\n",
        "model = tf.keras.Sequential([\n",
        "    tf.keras.layers.Dense(64, activation='relu', input_shape=(input_dim,)),\n",
        "    tf.keras.layers.Dense(10, activation='softmax')\n",
        "])\n",
        "model.compile(optimizer='adam', loss='sparse_categorical_crossentropy', metrics=['accuracy'])\n",
        "\"\"\"\n",
        "\n",
        "# 6. What is the importance of Tensor Space in TensorFlow?\n",
        "\"\"\"\n",
        "Tensor Space refers to the multi-dimensional arrays (tensors) that are the core data structures in TensorFlow.\n",
        "They represent data and parameters in models, enabling operations across dimensions efficiently.\n",
        "\"\"\"\n",
        "\n",
        "# 7. How can TensorBoard be integrated with TensorFlow 2.0?\n",
        "\"\"\"\n",
        "TensorBoard is integrated by adding callbacks during model training:\n",
        "\n",
        "tensorboard_callback = tf.keras.callbacks.TensorBoard(log_dir=\"./logs\")\n",
        "model.fit(x_train, y_train, epochs=5, callbacks=[tensorboard_callback])\n",
        "\n",
        "Then launch with: tensorboard --logdir=./logs\n",
        "\"\"\"\n",
        "\n",
        "# 8. What is the purpose of TensorFlow Playground?\n",
        "\"\"\"\n",
        "TensorFlow Playground is an interactive web app for visualizing and experimenting with neural networks in a browser, useful for learning concepts without coding.\n",
        "\"\"\"\n",
        "\n",
        "# 9. What is Netron, and how is it useful for deep learning models?\n",
        "\"\"\"\n",
        "Netron is a viewer for neural network, deep learning, and machine learning models.\n",
        "It visualizes model architectures from frameworks like TensorFlow, PyTorch, ONNX, making it easier to understand complex models.\n",
        "\"\"\"\n",
        "\n",
        "# 10. What is the difference between TensorFlow and PyTorch?\n",
        "\"\"\"\n",
        "TensorFlow:\n",
        "- Developed by Google\n",
        "- Graph execution by default (though TF 2.0 has eager)\n",
        "- More production-ready ecosystem\n",
        "PyTorch:\n",
        "- Developed by Facebook\n",
        "- Eager execution by default\n",
        "- More flexible and pythonic, popular in research\n",
        "\"\"\"\n",
        "\n",
        "# 11. How do you install PyTorch?\n",
        "\"\"\"\n",
        "Visit https://pytorch.org/get-started/locally/ to get the command based on OS, CUDA version.\n",
        "Basic CPU install:\n",
        "pip install torch torchvision torchaudio\n",
        "\"\"\"\n",
        "\n",
        "# 12. What is the basic structure of a PyTorch neural network?\n",
        "\"\"\"\n",
        "Subclass torch.nn.Module and define layers and forward pass.\n",
        "\n",
        "import torch.nn as nn\n",
        "\n",
        "class Net(nn.Module):\n",
        "    def __init__(self):\n",
        "        super(Net, self).__init__()\n",
        "        self.fc1 = nn.Linear(input_dim, 64)\n",
        "        self.relu = nn.ReLU()\n",
        "        self.fc2 = nn.Linear(64, num_classes)\n",
        "\n",
        "    def forward(self, x):\n",
        "        x = self.relu(self.fc1(x))\n",
        "        x = self.fc2(x)\n",
        "        return x\n",
        "\"\"\"\n",
        "\n",
        "# 13. What is the significance of tensors in PyTorch?\n",
        "\"\"\"\n",
        "Tensors are multi-dimensional arrays that are the basic data structures for all computations in PyTorch, supporting GPU acceleration and automatic differentiation.\n",
        "\"\"\"\n",
        "\n",
        "# 14. What is the difference between `torch.Tensor` and `torch.cuda.Tensor` in PyTorch?\n",
        "\"\"\"\n",
        "`torch.Tensor` is a CPU tensor, while `torch.cuda.Tensor` is a tensor stored and processed on a GPU for faster computation.\n",
        "\"\"\"\n",
        "\n",
        "# 15. What is the purpose of the `torch.optim` module in PyTorch?\n",
        "\"\"\"\n",
        "It contains optimization algorithms like SGD, Adam used to update model parameters based on gradients during training.\n",
        "\"\"\"\n",
        "\n",
        "# 16. What are some common activation functions used in neural networks?\n",
        "\"\"\"\n",
        "- ReLU (Rectified Linear Unit)\n",
        "- Sigmoid\n",
        "- Tanh\n",
        "- Leaky ReLU\n",
        "- Softmax (for multi-class classification)\n",
        "\"\"\"\n",
        "\n",
        "# 17. What is the difference between `torch.nn.Module` and `torch.nn.Sequential` in PyTorch?\n",
        "\"\"\"\n",
        "- `torch.nn.Module`: Base class for all models; allows flexible definition of layers and forward logic.\n",
        "- `torch.nn.Sequential`: Container for layers stacked sequentially; easier for simple linear stacks.\n",
        "\"\"\"\n",
        "\n",
        "# 18. How can you monitor training progress in TensorFlow 2.0?\n",
        "\"\"\"\n",
        "Use callbacks like TensorBoard callback or custom callbacks during model.fit(), and monitor metrics like loss and accuracy.\n",
        "\"\"\"\n",
        "\n",
        "# 19. How does the Keras API fit into TensorFlow 2.0?\n",
        "\"\"\"\n",
        "Keras is TensorFlow's official high-level API for building and training deep learning models, integrated tightly for ease of use.\n",
        "\"\"\"\n",
        "\n",
        "# 20. What is an example of a deep learning project that can be implemented using TensorFlow 2.0?\n",
        "\"\"\"\n",
        "Image classification using CNNs (e.g., classifying cats vs dogs), text classification with RNNs or transformers, or object detection.\n",
        "\"\"\"\n",
        "\n",
        "\n",
        "# 21. What is the main advantage of using pre-trained models in TensorFlow and PyTorch?\n",
        "\"\"\"\n",
        "Pre-trained models save time and computational resources by using learned features from large datasets, enabling transfer learning for better performance on new tasks with less data.\n",
        "\"\"\""
      ],
      "metadata": {
        "id": "qxpfPV-FxuxI"
      }
    },
    {
      "cell_type": "markdown",
      "source": [
        "\n",
        "# **PRACTICAL QUESTIONS**"
      ],
      "metadata": {
        "id": "tO3z80jFz5zD"
      }
    },
    {
      "cell_type": "code",
      "execution_count": 4,
      "metadata": {
        "colab": {
          "base_uri": "https://localhost:8080/"
        },
        "id": "6Cakhf3gpzQN",
        "outputId": "b7c5ffb3-49a5-4bdc-8b43-7261d94a9df4"
      },
      "outputs": [
        {
          "output_type": "stream",
          "name": "stdout",
          "text": [
            "2.18.0\n"
          ]
        }
      ],
      "source": [
        "# 1. How do you install and verify that TensorFlow 2.0 was installed successfully?\n",
        "\n",
        "# Installation command (run in terminal):\n",
        "\n",
        "# pip install tensorflow\n",
        "\n",
        "# Verify installation:\n",
        "import tensorflow as tf\n",
        "print(tf.__version__)  # Should print version starting with 2.x\n"
      ]
    },
    {
      "cell_type": "code",
      "source": [
        "# 2. How can you define a simple function in TensorFlow 2.0 to perform addition?\n",
        "\n",
        "@tf.function\n",
        "def add_tensors(a, b):\n",
        "    return tf.add(a, b)\n",
        "\n",
        "result = add_tensors(tf.constant(5), tf.constant(3))\n",
        "print(\"Addition result:\", result.numpy())"
      ],
      "metadata": {
        "colab": {
          "base_uri": "https://localhost:8080/"
        },
        "id": "67jiXGxwz3Eb",
        "outputId": "7d226363-aa79-485e-d259-b6b65dc46bc5"
      },
      "execution_count": 5,
      "outputs": [
        {
          "output_type": "stream",
          "name": "stdout",
          "text": [
            "Addition result: 8\n"
          ]
        }
      ]
    },
    {
      "cell_type": "code",
      "source": [
        "# 3. How can you create a simple neural network in TensorFlow 2.0 with one hidden layer?\n",
        "\n",
        "import tensorflow as tf\n",
        "\n",
        "input_dim = 5  # Example input feature size\n",
        "\n",
        "model = tf.keras.Sequential([\n",
        "    tf.keras.Input(shape=(input_dim,)),          # Explicit input layer (best practice)\n",
        "    tf.keras.layers.Dense(10, activation='relu'),  # Hidden layer with 10 neurons\n",
        "    tf.keras.layers.Dense(1)                      # Output layer\n",
        "])\n",
        "\n",
        "model.compile(optimizer='adam', loss='mse')\n",
        "\n",
        "# Model summary (optional)\n",
        "model.summary()\n"
      ],
      "metadata": {
        "colab": {
          "base_uri": "https://localhost:8080/",
          "height": 193
        },
        "id": "00EDrbwM0F8T",
        "outputId": "ea748317-fa2f-4610-8f5a-1d742314f25f"
      },
      "execution_count": 13,
      "outputs": [
        {
          "output_type": "display_data",
          "data": {
            "text/plain": [
              "\u001b[1mModel: \"sequential_1\"\u001b[0m\n"
            ],
            "text/html": [
              "<pre style=\"white-space:pre;overflow-x:auto;line-height:normal;font-family:Menlo,'DejaVu Sans Mono',consolas,'Courier New',monospace\"><span style=\"font-weight: bold\">Model: \"sequential_1\"</span>\n",
              "</pre>\n"
            ]
          },
          "metadata": {}
        },
        {
          "output_type": "display_data",
          "data": {
            "text/plain": [
              "┏━━━━━━━━━━━━━━━━━━━━━━━━━━━━━━━━━┳━━━━━━━━━━━━━━━━━━━━━━━━┳━━━━━━━━━━━━━━━┓\n",
              "┃\u001b[1m \u001b[0m\u001b[1mLayer (type)                   \u001b[0m\u001b[1m \u001b[0m┃\u001b[1m \u001b[0m\u001b[1mOutput Shape          \u001b[0m\u001b[1m \u001b[0m┃\u001b[1m \u001b[0m\u001b[1m      Param #\u001b[0m\u001b[1m \u001b[0m┃\n",
              "┡━━━━━━━━━━━━━━━━━━━━━━━━━━━━━━━━━╇━━━━━━━━━━━━━━━━━━━━━━━━╇━━━━━━━━━━━━━━━┩\n",
              "│ dense_2 (\u001b[38;5;33mDense\u001b[0m)                 │ (\u001b[38;5;45mNone\u001b[0m, \u001b[38;5;34m10\u001b[0m)             │            \u001b[38;5;34m60\u001b[0m │\n",
              "├─────────────────────────────────┼────────────────────────┼───────────────┤\n",
              "│ dense_3 (\u001b[38;5;33mDense\u001b[0m)                 │ (\u001b[38;5;45mNone\u001b[0m, \u001b[38;5;34m1\u001b[0m)              │            \u001b[38;5;34m11\u001b[0m │\n",
              "└─────────────────────────────────┴────────────────────────┴───────────────┘\n"
            ],
            "text/html": [
              "<pre style=\"white-space:pre;overflow-x:auto;line-height:normal;font-family:Menlo,'DejaVu Sans Mono',consolas,'Courier New',monospace\">┏━━━━━━━━━━━━━━━━━━━━━━━━━━━━━━━━━┳━━━━━━━━━━━━━━━━━━━━━━━━┳━━━━━━━━━━━━━━━┓\n",
              "┃<span style=\"font-weight: bold\"> Layer (type)                    </span>┃<span style=\"font-weight: bold\"> Output Shape           </span>┃<span style=\"font-weight: bold\">       Param # </span>┃\n",
              "┡━━━━━━━━━━━━━━━━━━━━━━━━━━━━━━━━━╇━━━━━━━━━━━━━━━━━━━━━━━━╇━━━━━━━━━━━━━━━┩\n",
              "│ dense_2 (<span style=\"color: #0087ff; text-decoration-color: #0087ff\">Dense</span>)                 │ (<span style=\"color: #00d7ff; text-decoration-color: #00d7ff\">None</span>, <span style=\"color: #00af00; text-decoration-color: #00af00\">10</span>)             │            <span style=\"color: #00af00; text-decoration-color: #00af00\">60</span> │\n",
              "├─────────────────────────────────┼────────────────────────┼───────────────┤\n",
              "│ dense_3 (<span style=\"color: #0087ff; text-decoration-color: #0087ff\">Dense</span>)                 │ (<span style=\"color: #00d7ff; text-decoration-color: #00d7ff\">None</span>, <span style=\"color: #00af00; text-decoration-color: #00af00\">1</span>)              │            <span style=\"color: #00af00; text-decoration-color: #00af00\">11</span> │\n",
              "└─────────────────────────────────┴────────────────────────┴───────────────┘\n",
              "</pre>\n"
            ]
          },
          "metadata": {}
        },
        {
          "output_type": "display_data",
          "data": {
            "text/plain": [
              "\u001b[1m Total params: \u001b[0m\u001b[38;5;34m71\u001b[0m (284.00 B)\n"
            ],
            "text/html": [
              "<pre style=\"white-space:pre;overflow-x:auto;line-height:normal;font-family:Menlo,'DejaVu Sans Mono',consolas,'Courier New',monospace\"><span style=\"font-weight: bold\"> Total params: </span><span style=\"color: #00af00; text-decoration-color: #00af00\">71</span> (284.00 B)\n",
              "</pre>\n"
            ]
          },
          "metadata": {}
        },
        {
          "output_type": "display_data",
          "data": {
            "text/plain": [
              "\u001b[1m Trainable params: \u001b[0m\u001b[38;5;34m71\u001b[0m (284.00 B)\n"
            ],
            "text/html": [
              "<pre style=\"white-space:pre;overflow-x:auto;line-height:normal;font-family:Menlo,'DejaVu Sans Mono',consolas,'Courier New',monospace\"><span style=\"font-weight: bold\"> Trainable params: </span><span style=\"color: #00af00; text-decoration-color: #00af00\">71</span> (284.00 B)\n",
              "</pre>\n"
            ]
          },
          "metadata": {}
        },
        {
          "output_type": "display_data",
          "data": {
            "text/plain": [
              "\u001b[1m Non-trainable params: \u001b[0m\u001b[38;5;34m0\u001b[0m (0.00 B)\n"
            ],
            "text/html": [
              "<pre style=\"white-space:pre;overflow-x:auto;line-height:normal;font-family:Menlo,'DejaVu Sans Mono',consolas,'Courier New',monospace\"><span style=\"font-weight: bold\"> Non-trainable params: </span><span style=\"color: #00af00; text-decoration-color: #00af00\">0</span> (0.00 B)\n",
              "</pre>\n"
            ]
          },
          "metadata": {}
        }
      ]
    },
    {
      "cell_type": "code",
      "source": [
        "# 4. How can you visualize the training progress using TensorFlow and Matplotlib?\n",
        "\n",
        "import matplotlib.pyplot as plt\n",
        "import numpy as np\n",
        "\n",
        "# Example dummy data\n",
        "x_train = np.random.rand(100, input_dim)\n",
        "y_train = np.random.rand(100, 1)\n",
        "x_val = np.random.rand(20, input_dim)\n",
        "y_val = np.random.rand(20, 1)\n",
        "\n",
        "history = model.fit(x_train, y_train, epochs=10, validation_data=(x_val, y_val))\n",
        "\n",
        "plt.plot(history.history['loss'], label='Train Loss')\n",
        "plt.plot(history.history['val_loss'], label='Validation Loss')\n",
        "plt.title('Model Loss')\n",
        "plt.ylabel('Loss')\n",
        "plt.xlabel('Epoch')\n",
        "plt.legend()\n",
        "plt.show()"
      ],
      "metadata": {
        "colab": {
          "base_uri": "https://localhost:8080/",
          "height": 819
        },
        "id": "QB0FSWCa0Mxq",
        "outputId": "f1de4af5-39fb-4a67-e7ac-2b42efdfec7a"
      },
      "execution_count": 7,
      "outputs": [
        {
          "output_type": "stream",
          "name": "stdout",
          "text": [
            "Epoch 1/10\n",
            "\u001b[1m4/4\u001b[0m \u001b[32m━━━━━━━━━━━━━━━━━━━━\u001b[0m\u001b[37m\u001b[0m \u001b[1m2s\u001b[0m 73ms/step - loss: 0.1646 - val_loss: 0.1840\n",
            "Epoch 2/10\n",
            "\u001b[1m4/4\u001b[0m \u001b[32m━━━━━━━━━━━━━━━━━━━━\u001b[0m\u001b[37m\u001b[0m \u001b[1m0s\u001b[0m 23ms/step - loss: 0.1603 - val_loss: 0.1791\n",
            "Epoch 3/10\n",
            "\u001b[1m4/4\u001b[0m \u001b[32m━━━━━━━━━━━━━━━━━━━━\u001b[0m\u001b[37m\u001b[0m \u001b[1m0s\u001b[0m 23ms/step - loss: 0.1367 - val_loss: 0.1752\n",
            "Epoch 4/10\n",
            "\u001b[1m4/4\u001b[0m \u001b[32m━━━━━━━━━━━━━━━━━━━━\u001b[0m\u001b[37m\u001b[0m \u001b[1m0s\u001b[0m 24ms/step - loss: 0.1424 - val_loss: 0.1717\n",
            "Epoch 5/10\n",
            "\u001b[1m4/4\u001b[0m \u001b[32m━━━━━━━━━━━━━━━━━━━━\u001b[0m\u001b[37m\u001b[0m \u001b[1m0s\u001b[0m 24ms/step - loss: 0.1324 - val_loss: 0.1683\n",
            "Epoch 6/10\n",
            "\u001b[1m4/4\u001b[0m \u001b[32m━━━━━━━━━━━━━━━━━━━━\u001b[0m\u001b[37m\u001b[0m \u001b[1m0s\u001b[0m 22ms/step - loss: 0.1456 - val_loss: 0.1655\n",
            "Epoch 7/10\n",
            "\u001b[1m4/4\u001b[0m \u001b[32m━━━━━━━━━━━━━━━━━━━━\u001b[0m\u001b[37m\u001b[0m \u001b[1m0s\u001b[0m 23ms/step - loss: 0.1351 - val_loss: 0.1630\n",
            "Epoch 8/10\n",
            "\u001b[1m4/4\u001b[0m \u001b[32m━━━━━━━━━━━━━━━━━━━━\u001b[0m\u001b[37m\u001b[0m \u001b[1m0s\u001b[0m 23ms/step - loss: 0.1319 - val_loss: 0.1610\n",
            "Epoch 9/10\n",
            "\u001b[1m4/4\u001b[0m \u001b[32m━━━━━━━━━━━━━━━━━━━━\u001b[0m\u001b[37m\u001b[0m \u001b[1m0s\u001b[0m 23ms/step - loss: 0.1296 - val_loss: 0.1591\n",
            "Epoch 10/10\n",
            "\u001b[1m4/4\u001b[0m \u001b[32m━━━━━━━━━━━━━━━━━━━━\u001b[0m\u001b[37m\u001b[0m \u001b[1m0s\u001b[0m 24ms/step - loss: 0.1222 - val_loss: 0.1574\n"
          ]
        },
        {
          "output_type": "display_data",
          "data": {
            "text/plain": [
              "<Figure size 640x480 with 1 Axes>"
            ],
            "image/png": "[encoded data removed]"
          },
          "metadata": {}
        }
      ]
    },
    {
      "cell_type": "code",
      "source": [
        "# 5. How do you install PyTorch and verify the PyTorch installation?\n",
        "\n",
        "# Installation command (run in terminal):\n",
        "# pip install torch torchvision torchaudio\n",
        "\n",
        "import torch\n",
        "print(torch.__version__)\n",
        "print(\"CUDA available:\", torch.cuda.is_available())"
      ],
      "metadata": {
        "colab": {
          "base_uri": "https://localhost:8080/"
        },
        "id": "f1Hffzq60V4Z",
        "outputId": "30a90d5e-6337-4c1e-fe9b-ed90b611a225"
      },
      "execution_count": 8,
      "outputs": [
        {
          "output_type": "stream",
          "name": "stdout",
          "text": [
            "2.6.0+cu124\n",
            "CUDA available: False\n"
          ]
        }
      ]
    },
    {
      "cell_type": "code",
      "source": [
        "# 6. How do you create a simple neural network in PyTorch?\n",
        "\n",
        "import torch.nn as nn\n",
        "import torch.nn.functional as F\n",
        "\n",
        "class SimpleNN(nn.Module):\n",
        "    def __init__(self, input_dim):\n",
        "        super(SimpleNN, self).__init__()\n",
        "        self.fc1 = nn.Linear(input_dim, 10)\n",
        "        self.fc2 = nn.Linear(10, 1)\n",
        "\n",
        "    def forward(self, x):\n",
        "        x = F.relu(self.fc1(x))\n",
        "        x = self.fc2(x)\n",
        "        return x\n",
        "\n",
        "input_dim = 5\n",
        "model = SimpleNN(input_dim=input_dim)"
      ],
      "metadata": {
        "id": "-wn9q5QZ0ZJc"
      },
      "execution_count": 9,
      "outputs": []
    },
    {
      "cell_type": "code",
      "source": [
        "# 7. How do you define a loss function and optimizer in PyTorch?\n",
        "\n",
        "import torch.optim as optim\n",
        "\n",
        "criterion = nn.MSELoss()\n",
        "optimizer = optim.Adam(model.parameters(), lr=0.001)"
      ],
      "metadata": {
        "id": "i72Q_PNz0cD8"
      },
      "execution_count": 10,
      "outputs": []
    },
    {
      "cell_type": "code",
      "source": [
        "# 8. How do you implement a custom loss function in PyTorch?\n",
        "\n",
        "# As a function\n",
        "def custom_loss(output, target):\n",
        "    return torch.mean((output - target) ** 2)\n",
        "\n",
        "# As a class\n",
        "class CustomLoss(nn.Module):\n",
        "    def __init__(self):\n",
        "        super(CustomLoss, self).__init__()\n",
        "\n",
        "    def forward(self, output, target):\n",
        "        return torch.mean((output - target) ** 2)\n",
        "\n",
        "criterion = CustomLoss()"
      ],
      "metadata": {
        "id": "I8XaIwfH0dwl"
      },
      "execution_count": 11,
      "outputs": []
    },
    {
      "cell_type": "code",
      "source": [
        "# 9. How do you save and load a TensorFlow model?\n",
        "\n",
        "# Save in TensorFlow's native format (.keras or no extension)\n",
        "model.save('my_model.keras')\n",
        "\n",
        "# Save in HDF5 format\n",
        "model.save('my_model.h5')\n",
        "\n",
        "# Loading a Model\n",
        "# To load a previously saved model, use the tf.keras.models.load_model() function:\n",
        "\n",
        "from tensorflow.keras.models import load_model\n",
        "\n",
        "# Load a model saved in the native format\n",
        "model = load_model('my_model.keras')\n",
        "\n",
        "# Load a model saved in HDF5 format\n",
        "model = load_model('my_model.h5')\n"
      ],
      "metadata": {
        "id": "B7I3gX1n0fRH"
      },
      "execution_count": null,
      "outputs": []
    },
    {
      "cell_type": "code",
      "source": [],
      "metadata": {
        "id": "IOj6lR0l0hJE"
      },
      "execution_count": null,
      "outputs": []
    }
  ]
}